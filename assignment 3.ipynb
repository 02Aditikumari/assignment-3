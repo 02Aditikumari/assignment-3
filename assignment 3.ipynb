{
 "cells": [
  {
   "cell_type": "markdown",
   "id": "44f71794",
   "metadata": {},
   "source": [
    "# Assignment 3"
   ]
  },
  {
   "cell_type": "markdown",
   "id": "ff270fd9",
   "metadata": {},
   "source": [
    "# Question 1- write the python function to find the max of three numbers."
   ]
  },
  {
   "cell_type": "code",
   "execution_count": 1,
   "id": "bfc1afc7",
   "metadata": {},
   "outputs": [
    {
     "name": "stdout",
     "output_type": "stream",
     "text": [
      "Enter first number: 3\n",
      "Enter second number: 6\n",
      "Enter Third number: 8\n",
      "Largest number among  the three is 8\n"
     ]
    }
   ],
   "source": [
    "n1=int(input(\"Enter first number: \"));\n",
    "\n",
    "n2=int(input(\"Enter second number: \"));\n",
    "\n",
    "n3=int(input(\"Enter Third number: \"));\n",
    "\n",
    "def maxx():\n",
    "\n",
    "    if(n1>=n2) and (n1>=n3):\n",
    "\n",
    "        l=n1\n",
    "\n",
    "    elif(n2>=n1) and (n2>=n3):\n",
    "\n",
    "         l=n2\n",
    "\n",
    "    else:\n",
    "\n",
    "         l=n3\n",
    "\n",
    "    print(\"Largest number among  the three is\",l)\n",
    "\n",
    "maxx()"
   ]
  },
  {
   "cell_type": "markdown",
   "id": "06e54b7b",
   "metadata": {},
   "source": [
    "# Question 2- write a python function to multiply all the numbers in a list."
   ]
  },
  {
   "cell_type": "code",
   "execution_count": 2,
   "id": "d1765066",
   "metadata": {},
   "outputs": [
    {
     "name": "stdout",
     "output_type": "stream",
     "text": [
      "60\n"
     ]
    }
   ],
   "source": [
    "a = [2, 6, 5]\n",
    "b = 1\n",
    "\n",
    "for i in a:\n",
    "    b = b * i\n",
    "\n",
    "\n",
    "print(b)"
   ]
  },
  {
   "cell_type": "markdown",
   "id": "c82e2197",
   "metadata": {},
   "source": [
    "# Question 3- write a python function that accepts  a string and calculate the no. of upper case letter and lower case letter.                      "
   ]
  },
  {
   "cell_type": "code",
   "execution_count": 3,
   "id": "03f03d0f",
   "metadata": {},
   "outputs": [
    {
     "name": "stdout",
     "output_type": "stream",
     "text": [
      "Enter a string: Aditi\n",
      "The lower case letters: 4\n",
      "The upper case letters: 1\n"
     ]
    }
   ],
   "source": [
    "str =input(\"Enter a string: \")\n",
    "upper=0\n",
    "lower=0\n",
    "for i in str:\n",
    "    if (i.islower()):\n",
    "        lower=lower+1\n",
    "    elif (i.isupper()):\n",
    "        upper=upper+1\n",
    "\n",
    "print(\"The lower case letters:\",lower)\n",
    "print(\"The upper case letters:\",upper)"
   ]
  },
  {
   "cell_type": "markdown",
   "id": "fc8ff872",
   "metadata": {},
   "source": [
    "# Question 4- write a python function that checks whether a passed string is palindrome or not."
   ]
  },
  {
   "cell_type": "code",
   "execution_count": 4,
   "id": "b7e976b6",
   "metadata": {},
   "outputs": [
    {
     "name": "stdout",
     "output_type": "stream",
     "text": [
      "yes\n"
     ]
    }
   ],
   "source": [
    "def ispalindrome(s):\n",
    "    return s ==s[::-1]\n",
    "s =\"madam\"\n",
    "ans = ispalindrome(s)\n",
    "if ans:\n",
    "    print(\"yes\")\n",
    "else:\n",
    "  print(\"no\")"
   ]
  },
  {
   "cell_type": "markdown",
   "id": "f0ae3a10",
   "metadata": {},
   "source": [
    "# Question 5- write a python program to print the even no. from a given list."
   ]
  },
  {
   "cell_type": "code",
   "execution_count": 5,
   "id": "a05ca41d",
   "metadata": {},
   "outputs": [
    {
     "name": "stdout",
     "output_type": "stream",
     "text": [
      "[22, 44, 66, 88]\n"
     ]
    }
   ],
   "source": [
    "def p_even(l):\n",
    "    b = []\n",
    "    for num in l:\n",
    "        if num %2 == 0:\n",
    "            b.append(num) \n",
    "    return b\n",
    "print(p_even([11, 22, 33, 44, 55, 66, 77, 88, 99]))       "
   ]
  },
  {
   "cell_type": "code",
   "execution_count": null,
   "id": "cdb9e4cb",
   "metadata": {},
   "outputs": [],
   "source": []
  }
 ],
 "metadata": {
  "kernelspec": {
   "display_name": "Python 3",
   "language": "python",
   "name": "python3"
  },
  "language_info": {
   "codemirror_mode": {
    "name": "ipython",
    "version": 3
   },
   "file_extension": ".py",
   "mimetype": "text/x-python",
   "name": "python",
   "nbconvert_exporter": "python",
   "pygments_lexer": "ipython3",
   "version": "3.8.8"
  }
 },
 "nbformat": 4,
 "nbformat_minor": 5
}
